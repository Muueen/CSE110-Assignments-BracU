{
  "nbformat": 4,
  "nbformat_minor": 0,
  "metadata": {
    "colab": {
      "name": "22101715_MD. Mahfuzul Haque Mueen_18_CSE110Assignment7.ipynb",
      "provenance": [],
      "collapsed_sections": []
    },
    "kernelspec": {
      "name": "python3",
      "display_name": "Python 3"
    },
    "language_info": {
      "name": "python"
    }
  },
  "cells": [
    {
      "cell_type": "code",
      "execution_count": 53,
      "metadata": {
        "id": "-duwZSnUUVyr",
        "colab": {
          "base_uri": "https://localhost:8080/"
        },
        "outputId": "ba82bd9c-aad2-447c-d12d-5101aa31308f"
      },
      "outputs": [
        {
          "output_type": "execute_result",
          "data": {
            "text/plain": [
              "[1, 2, 2, 3, 5, 6, 10, 11, 12, 14, 15, 17, 18, 20, 29]"
            ]
          },
          "metadata": {},
          "execution_count": 53
        }
      ],
      "source": [
        "#TASK-1\n",
        "def asc_sort(my_list):\n",
        "    for index_1 in range(len(my_list)-1):\n",
        "        for index_2 in range(len(my_list)-1-index_1):\n",
        "            if my_list[index_2] > my_list[index_2 + 1]:\n",
        "                temp = my_list[index_2]\n",
        "                my_list[index_2] = my_list[index_2 + 1]\n",
        "                my_list[index_2+1] = temp\n",
        "    return my_list\n",
        "my_list = [10, 1, 20, 3, 6, 2, 5, 11, 15, 2, 12, 14, 17, 18, 29]\n",
        "asc_sort(my_list)"
      ]
    },
    {
      "cell_type": "code",
      "source": [
        "#TASK-2\n",
        "my_list= [10, 1, 20, 3, 6, 2, 5, 11, 15, 2, 12, 14, 17, 18, 29]\n",
        "for inx1 in range(len(my_list)-1):\n",
        "    min = my_list[inx1]\n",
        "    min_inx = inx1\n",
        "    for inx2 in range(inx1+1, len(my_list)):\n",
        "        if my_list[inx2] < min:\n",
        "            min = my_list[inx2]\n",
        "            min_inx = inx2\n",
        "    temp = my_list[inx1]\n",
        "    my_list[inx1] = my_list[min_inx]\n",
        "    my_list[min_inx] = temp\n",
        "print(my_list)"
      ],
      "metadata": {
        "colab": {
          "base_uri": "https://localhost:8080/"
        },
        "id": "FaHuoyNpWfxL",
        "outputId": "80866623-9059-4d4e-a92e-151b5ee58446"
      },
      "execution_count": null,
      "outputs": [
        {
          "output_type": "stream",
          "name": "stdout",
          "text": [
            "[1, 2, 2, 3, 5, 6, 10, 11, 12, 14, 15, 17, 18, 20, 29]\n"
          ]
        }
      ]
    },
    {
      "cell_type": "code",
      "source": [
        "#TASK-3\n",
        "def dsc_sort(my_list_3):\n",
        "    for in1 in range(len(my_list_3)):\n",
        "        for in2 in range(len(my_list_3)-1-in1):\n",
        "            if my_list_3[in2] < my_list_3[in2+1]:\n",
        "                temp = my_list_3[in2]\n",
        "                my_list_3[in2] = my_list_3[in2+1]\n",
        "                my_list_3[in2+1] = temp\n",
        "    return my_list_3\n",
        "my_list = [10, 1, 20, 3, 6, 2, 5, 11, 15, 2, 12, 14, 17, 18, 29]\n",
        "dsc_sort(my_list)"
      ],
      "metadata": {
        "colab": {
          "base_uri": "https://localhost:8080/"
        },
        "id": "KJm4LCx9YtDo",
        "outputId": "de15f4b6-d5e1-4bd1-b477-837dccc4846b"
      },
      "execution_count": 54,
      "outputs": [
        {
          "output_type": "execute_result",
          "data": {
            "text/plain": [
              "[29, 20, 18, 17, 15, 14, 12, 11, 10, 6, 5, 3, 2, 2, 1]"
            ]
          },
          "metadata": {},
          "execution_count": 54
        }
      ]
    },
    {
      "cell_type": "code",
      "source": [
        "#TASK-4\n",
        "sitting_list = [10, 30, 20, 70, 11, 15, 22, 16, 58, 100, 12, 56, 70, 80]\n",
        "even_l = []\n",
        "odd_l = []\n",
        "final_l = []\n",
        "for ind in range(len(sitting_list)):\n",
        "    if ind % 2 == 0:\n",
        "        even_l.append(sitting_list[ind])\n",
        "    else:\n",
        "        odd_l.append(sitting_list[ind])\n",
        "sorted_el = asc_sort(even_l)\n",
        "sorted_ol = dsc_sort(odd_l)\n",
        "length = (len(sorted_el) + len(sorted_ol)) / 2\n",
        "length = int(length)\n",
        "for numb in range(length):\n",
        "    final_l.append(sorted_el[numb])\n",
        "    final_l.append(sorted_ol[numb])\n",
        "print(final_l)"
      ],
      "metadata": {
        "id": "7n3fyNPbaev-",
        "colab": {
          "base_uri": "https://localhost:8080/"
        },
        "outputId": "bb00c25d-a5cb-4c33-ee93-b0d8b21a215d"
      },
      "execution_count": 59,
      "outputs": [
        {
          "output_type": "stream",
          "name": "stdout",
          "text": [
            "[10, 100, 11, 80, 12, 70, 20, 56, 22, 30, 58, 16, 70, 15]\n"
          ]
        }
      ]
    },
    {
      "cell_type": "code",
      "source": [
        "#TASK-5\n",
        "lst = [[\"Alan\", 95, 87, 91], [\"Turing\", 92, 90, 83], [\"Elon\", 87, 92, 80], [\"Musk\", 85, 94, 90]]\n",
        "inp = input(\"Enter course name: \")\n",
        "l_2 = []\n",
        "cse = []\n",
        "phy = []\n",
        "math = []\n",
        "for val in lst:\n",
        "    val = val[1:len(val)]\n",
        "    l_2.append(val)\n",
        "for values in l_2:\n",
        "    for k in values:\n",
        "        if values.index(k) == 0:\n",
        "            cse.append(k)\n",
        "        elif values.index(k) == 1:\n",
        "            phy.append(k)\n",
        "        elif values.index(k) == 2:\n",
        "            math.append(k)\n",
        "sorted_c = dsc_sort(cse)\n",
        "sorted_p = dsc_sort(phy)\n",
        "sorted_m = dsc_sort(math)\n",
        "if inp == \"CSE110\":\n",
        "    for elems in sorted_c:\n",
        "        if elems == lst[0][1]:\n",
        "            sorted_c[sorted_c.index(elems)] = lst[0][0]\n",
        "        elif elems == lst[1][1]:\n",
        "            sorted_c[sorted_c.index(elems)] = lst[1][0]\n",
        "        elif elems == lst[2][1]:\n",
        "            sorted_c[sorted_c.index(elems)] = lst[2][0]\n",
        "        elif elems == lst[3][1]:\n",
        "             sorted_c[sorted_c.index(elems)] = lst[3][0]\n",
        "    for math in sorted_c:\n",
        "        print(math)\n",
        "elif inp ==\"PHY111\":\n",
        "    for elems in sorted_p:\n",
        "        if elems == lst[0][2]:\n",
        "            sorted_p[sorted_p.index(elems)] = lst[0][0]\n",
        "        elif elems == lst[1][2]:\n",
        "            sorted_p[sorted_p.index(elems)] = lst[1][0]\n",
        "        elif elems == lst[2][2]:\n",
        "            sorted_p[sorted_p.index(elems)] = lst[2][0]\n",
        "        elif elems == lst[3][2]:\n",
        "             sorted_p[sorted_p.index(elems)] = lst[3][0]\n",
        "    for n in sorted_p:\n",
        "        print(n)\n",
        "elif inp ==\"MAT110\":\n",
        "    for elems in sorted_m:\n",
        "        if elems == lst[0][3]:\n",
        "            sorted_m[sorted_m.index(elems)] = lst[0][0]\n",
        "        elif elems == lst[1][3]:\n",
        "            sorted_m[sorted_m.index(elems)] = lst[1][0]\n",
        "        elif elems == lst[2][3]:\n",
        "            sorted_m[sorted_m.index(elems)] = lst[2][0]\n",
        "        elif elems == lst[3][3]:\n",
        "             sorted_m[sorted_m.index(elems)] = lst[3][0]\n",
        "    for o in sorted_m:\n",
        "        print(o)"
      ],
      "metadata": {
        "colab": {
          "base_uri": "https://localhost:8080/"
        },
        "id": "l8q8gCErj49k",
        "outputId": "e0cb8f73-becd-482c-bafa-dca940eafb27"
      },
      "execution_count": 95,
      "outputs": [
        {
          "output_type": "stream",
          "name": "stdout",
          "text": [
            "Enter course name: PHY111\n",
            "Musk\n",
            "Elon\n",
            "Turing\n",
            "Alan\n"
          ]
        }
      ]
    },
    {
      "cell_type": "code",
      "source": [
        "#TASK-6\n",
        "my_list = [4, 2, 3, 1, 6, 5]\n",
        "list_2 = my_list.copy()\n",
        "counter = 0\n",
        "for inx1 in range(len(my_list)-1):\n",
        "    min = my_list[inx1]\n",
        "    min_inx = inx1\n",
        "    for inx2 in range(inx1+1, len(my_list)):\n",
        "        if my_list[inx2] < min:\n",
        "            min = my_list[inx2]\n",
        "            min_inx = inx2\n",
        "    temp = my_list[inx1]\n",
        "    my_list[inx1] = my_list[min_inx]\n",
        "    my_list[min_inx] = temp\n",
        "for elems in my_list:\n",
        "    index_1 = my_list.index(elems)\n",
        "    if my_list[index_1] != list_2[index_1]:\n",
        "        counter += 1\n",
        "print(counter)"
      ],
      "metadata": {
        "id": "yrGoczk5-hms",
        "colab": {
          "base_uri": "https://localhost:8080/"
        },
        "outputId": "ee86881b-c09b-4cdb-f028-37e16cdc1cd0"
      },
      "execution_count": 96,
      "outputs": [
        {
          "output_type": "stream",
          "name": "stdout",
          "text": [
            "4\n"
          ]
        }
      ]
    },
    {
      "cell_type": "code",
      "source": [
        "#TASK-7\n",
        "lis_1 = input(\"Enter first list: \")\n",
        "lis_2 = input(\"Enter second list: \")\n",
        "lis_1 = lis_1[1: len(lis_1)-1]\n",
        "lis_1 = lis_1.split(\", \")\n",
        "lis_2 = lis_2[1: len(lis_2)-1]\n",
        "lis_2 = lis_2.split(\", \")\n",
        "my_list = []\n",
        "for num in lis_1:\n",
        "    num = int(num)\n",
        "    my_list.append(num)\n",
        "for nums in lis_2:\n",
        "    nums = int(nums)\n",
        "    my_list.append(nums)\n",
        "\n",
        "for index_1 in range(len(my_list)-1):\n",
        "    for index_2 in range(len(my_list)-1-index_1):\n",
        "        if my_list[index_2] > my_list[index_2 + 1]:\n",
        "            temp = my_list[index_2]\n",
        "            my_list[index_2] = my_list[index_2 + 1]\n",
        "            my_list[index_2+1] = temp\n",
        "print(\"Sorted list =\", my_list)\n",
        "if len(my_list) % 2 == 0:\n",
        "    id1 = len(my_list) // 2\n",
        "    id2 = (len(my_list) // 2)-1\n",
        "    median = (my_list[id1] + my_list[id2]) / 2\n",
        "    print(\"Median =\", median)\n",
        "else:\n",
        "    median = my_list[((len(my_list)-1)//2)]\n",
        "    print(\"Median =\", median)"
      ],
      "metadata": {
        "colab": {
          "base_uri": "https://localhost:8080/"
        },
        "id": "OIhDa9xnK7tZ",
        "outputId": "7eeac4f0-98ea-4436-e034-229cda08b9b1"
      },
      "execution_count": 101,
      "outputs": [
        {
          "output_type": "stream",
          "name": "stdout",
          "text": [
            "Enter first list: [4, 3, 2]\n",
            "Enter second list: [5, 1, 0]\n",
            "Sorted list = [0, 1, 2, 3, 4, 5]\n",
            "Median = 2.5\n"
          ]
        }
      ]
    },
    {
      "cell_type": "code",
      "source": [
        "#TASK-8\n",
        "listi = input(\"Enter a list: \")\n",
        "listi = listi[1 : len(listi)-1]\n",
        "listi = listi.split(\", \")\n",
        "min = 9999999\n",
        "summ = 0\n",
        "list_one = []\n",
        "for numbers in listi:\n",
        "    numbers = int(numbers)\n",
        "    list_one.append(numbers)\n",
        "for num in list_one:\n",
        "    for nums in list_one:\n",
        "        if list_one.index(num) != list_one.index(nums):\n",
        "            summ = num + nums\n",
        "            summ = abs(summ)\n",
        "            if summ < min:\n",
        "                min = summ\n",
        "                num_1 = num\n",
        "                num_2= nums\n",
        "print(\"Two pairs which have the smallest sum =\", num_1, \"and\", num_2)"
      ],
      "metadata": {
        "colab": {
          "base_uri": "https://localhost:8080/"
        },
        "id": "UKKUKR-ORaGB",
        "outputId": "371e1dc4-512b-4c3a-f6d7-2bc939545b6a"
      },
      "execution_count": 100,
      "outputs": [
        {
          "output_type": "stream",
          "name": "stdout",
          "text": [
            "Enter a list: [-10, 15, 2, 4, -4, 7, -8]\n",
            "Two pairs which have the smallest sum = 4 and -4\n"
          ]
        }
      ]
    },
    {
      "cell_type": "code",
      "source": [
        "#TASK-9\n",
        "points = [(1,7), (4,5), (-1,7), (-2,0), (1,1), (5,-1)]\n",
        "import math\n",
        "points = [(1,7), (4,5), (-1,7), (-2,0), (1,1), (5,-1)]\n",
        "min = 9999999\n",
        "distance = []\n",
        "for pts in points:\n",
        "    (x, y) = pts\n",
        "    dist = math.sqrt(pow(x, 2) + pow(y, 2))\n",
        "    distance.append(dist)\n",
        "distance_2 = distance.copy()\n",
        "for index_1 in range(len(distance)-1):\n",
        "    for index_2 in range(len(distance)-1-index_1):\n",
        "        if distance[index_2] > distance[index_2 + 1]:\n",
        "            temp = distance[index_2]\n",
        "            distance[index_2] = distance[index_2 + 1]\n",
        "            distance[index_2+1] = temp\n",
        "min_dist = distance[0]\n",
        "indx = distance_2.index(distance[0])\n",
        "min_pt = points[indx]\n",
        "print(\"Minimum distance =\", min_pt)\n",
        "print(\"Here the closest point is\", min_pt ,\"which has a distance of\", min_dist ,\"from the origin.\")"
      ],
      "metadata": {
        "colab": {
          "base_uri": "https://localhost:8080/"
        },
        "id": "UfwW_nxdOA_P",
        "outputId": "a91ee696-a21d-4e98-a1bf-8e2d7a659b61"
      },
      "execution_count": 117,
      "outputs": [
        {
          "output_type": "stream",
          "name": "stdout",
          "text": [
            "Minimum distance = (1, 1)\n",
            "Here the closest point is (1, 1) which has a distance of 1.4142135623730951 from the origin.\n"
          ]
        }
      ]
    }
  ]
}